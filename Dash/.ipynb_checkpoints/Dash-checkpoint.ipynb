{
 "cells": [
  {
   "cell_type": "code",
   "execution_count": 1,
   "metadata": {},
   "outputs": [
    {
     "name": "stdout",
     "output_type": "stream",
     "text": [
      "Collecting dash\n",
      "  Downloading dash-1.18.1.tar.gz (74 kB)\n",
      "Requirement already satisfied: Flask>=1.0.4 in c:\\users\\asus\\anaconda3\\lib\\site-packages (from dash) (1.1.1)\n",
      "Collecting flask-compress\n",
      "  Downloading Flask_Compress-1.8.0-py3-none-any.whl (7.2 kB)\n",
      "Collecting plotly\n",
      "  Downloading plotly-4.14.1-py2.py3-none-any.whl (13.2 MB)\n",
      "Collecting dash_renderer==1.8.3\n",
      "  Downloading dash_renderer-1.8.3.tar.gz (1.0 MB)\n",
      "Collecting dash-core-components==1.14.1\n",
      "  Downloading dash_core_components-1.14.1.tar.gz (3.5 MB)\n",
      "Collecting dash-html-components==1.1.1\n",
      "  Downloading dash_html_components-1.1.1.tar.gz (188 kB)\n",
      "Collecting dash-table==4.11.1\n",
      "  Downloading dash_table-4.11.1.tar.gz (1.8 MB)\n",
      "Requirement already satisfied: future in c:\\users\\asus\\anaconda3\\lib\\site-packages (from dash) (0.18.2)\n",
      "Requirement already satisfied: Werkzeug>=0.15 in c:\\users\\asus\\anaconda3\\lib\\site-packages (from Flask>=1.0.4->dash) (1.0.0)\n",
      "Requirement already satisfied: itsdangerous>=0.24 in c:\\users\\asus\\anaconda3\\lib\\site-packages (from Flask>=1.0.4->dash) (1.1.0)\n",
      "Requirement already satisfied: click>=5.1 in c:\\users\\asus\\anaconda3\\lib\\site-packages (from Flask>=1.0.4->dash) (7.0)\n",
      "Requirement already satisfied: Jinja2>=2.10.1 in c:\\users\\asus\\anaconda3\\lib\\site-packages (from Flask>=1.0.4->dash) (2.11.1)\n",
      "Collecting brotli\n",
      "  Downloading Brotli-1.0.9-cp37-cp37m-win_amd64.whl (365 kB)\n",
      "Requirement already satisfied: six in c:\\users\\asus\\anaconda3\\lib\\site-packages (from plotly->dash) (1.14.0)\n",
      "Collecting retrying>=1.3.3\n",
      "  Downloading retrying-1.3.3.tar.gz (10 kB)\n",
      "Requirement already satisfied: MarkupSafe>=0.23 in c:\\users\\asus\\anaconda3\\lib\\site-packages (from Jinja2>=2.10.1->Flask>=1.0.4->dash) (1.1.1)\n",
      "Building wheels for collected packages: dash, dash-renderer, dash-core-components, dash-html-components, dash-table, retrying\n",
      "  Building wheel for dash (setup.py): started\n",
      "  Building wheel for dash (setup.py): finished with status 'done'\n",
      "  Created wheel for dash: filename=dash-1.18.1-py3-none-any.whl size=83681 sha256=d5927e5572b4d5441e2accc67e834f5d620d72cd2fa641561b7922b2402c92c4\n",
      "  Stored in directory: c:\\users\\asus\\appdata\\local\\pip\\cache\\wheels\\c1\\f0\\dc\\4d5f7c91c8f773dfde06e6ed6c0a45c8cf213336b963118741\n",
      "  Building wheel for dash-renderer (setup.py): started\n",
      "  Building wheel for dash-renderer (setup.py): finished with status 'done'\n",
      "  Created wheel for dash-renderer: filename=dash_renderer-1.8.3-py3-none-any.whl size=1013946 sha256=76250dc7d77695d06637cad5f192b29517d7301c5f6ae14a55eeadfb56162b68\n",
      "  Stored in directory: c:\\users\\asus\\appdata\\local\\pip\\cache\\wheels\\71\\17\\b0\\8bebc086e55a01cf4036902b6ca05fce3fb4c7fd48dbd07717\n",
      "  Building wheel for dash-core-components (setup.py): started\n",
      "  Building wheel for dash-core-components (setup.py): finished with status 'done'\n",
      "  Created wheel for dash-core-components: filename=dash_core_components-1.14.1-py3-none-any.whl size=3525935 sha256=ca68a23c36aab641d45c74568d900d3a478d58ffdae72bb3b8e01b41b71f0394\n",
      "  Stored in directory: c:\\users\\asus\\appdata\\local\\pip\\cache\\wheels\\ef\\a4\\3c\\ceec876f847e7a9c24e5f95d76aa9c9a1ca64b3a67f0a81b41\n",
      "  Building wheel for dash-html-components (setup.py): started\n",
      "  Building wheel for dash-html-components (setup.py): finished with status 'done'\n",
      "  Created wheel for dash-html-components: filename=dash_html_components-1.1.1-py3-none-any.whl size=427900 sha256=ae16200258b7892cdedb06ea145afa4e1fe138e3b6e15fd9b0bbeea6f3be8b10\n",
      "  Stored in directory: c:\\users\\asus\\appdata\\local\\pip\\cache\\wheels\\c8\\a8\\46\\2900a0845e7992a317eca9ba18e55d47c03ccc4e80d6a37e73\n",
      "  Building wheel for dash-table (setup.py): started\n",
      "  Building wheel for dash-table (setup.py): finished with status 'done'\n",
      "  Created wheel for dash-table: filename=dash_table-4.11.1-py3-none-any.whl size=1839872 sha256=d2f64e5ac994c46738aab8c1f8444f6d228ebf6ebb77edf78b01d7af831d92a2\n",
      "  Stored in directory: c:\\users\\asus\\appdata\\local\\pip\\cache\\wheels\\eb\\08\\ee\\6b2a01fab695522441d95710fcc3c8b41ff81995c99a3f6fbd\n",
      "  Building wheel for retrying (setup.py): started\n",
      "  Building wheel for retrying (setup.py): finished with status 'done'\n",
      "  Created wheel for retrying: filename=retrying-1.3.3-py3-none-any.whl size=11435 sha256=4844cdaeb317632b21276a0ee754e09c9261eae0ccaa05c27c0ee772e3c9f65d\n",
      "  Stored in directory: c:\\users\\asus\\appdata\\local\\pip\\cache\\wheels\\f9\\8d\\8d\\f6af3f7f9eea3553bc2fe6d53e4b287dad18b06a861ac56ddf\n",
      "Successfully built dash dash-renderer dash-core-components dash-html-components dash-table retrying\n",
      "Installing collected packages: brotli, flask-compress, retrying, plotly, dash-renderer, dash-core-components, dash-html-components, dash-table, dash\n",
      "Successfully installed brotli-1.0.9 dash-1.18.1 dash-core-components-1.14.1 dash-html-components-1.1.1 dash-renderer-1.8.3 dash-table-4.11.1 flask-compress-1.8.0 plotly-4.14.1 retrying-1.3.3\n",
      "Note: you may need to restart the kernel to use updated packages.\n"
     ]
    }
   ],
   "source": [
    "#pip install dash"
   ]
  },
  {
   "cell_type": "code",
   "execution_count": 1,
   "metadata": {},
   "outputs": [],
   "source": [
    "import dash\n",
    "import dash_core_components as dcc     \n",
    "import dash_html_components as html"
   ]
  },
  {
   "cell_type": "code",
   "execution_count": null,
   "metadata": {},
   "outputs": [
    {
     "name": "stdout",
     "output_type": "stream",
     "text": [
      "Dash is running on http://127.0.0.1:8050/\n",
      "\n",
      " * Serving Flask app \"__main__\" (lazy loading)\n",
      " * Environment: production\n",
      "   WARNING: This is a development server. Do not use it in a production deployment.\n",
      "   Use a production WSGI server instead.\n",
      " * Debug mode: off\n"
     ]
    },
    {
     "name": "stderr",
     "output_type": "stream",
     "text": [
      " * Running on http://127.0.0.1:8050/ (Press CTRL+C to quit)\n",
      "127.0.0.1 - - [01/Jan/2021 15:37:16] \"\u001b[37mGET / HTTP/1.1\u001b[0m\" 200 -\n",
      "127.0.0.1 - - [01/Jan/2021 15:37:17] \"\u001b[37mGET /_favicon.ico?v=1.18.1 HTTP/1.1\u001b[0m\" 200 -\n",
      "127.0.0.1 - - [01/Jan/2021 15:37:17] \"\u001b[37mGET /_dash-layout HTTP/1.1\u001b[0m\" 200 -\n",
      "127.0.0.1 - - [01/Jan/2021 15:37:17] \"\u001b[37mGET /_dash-dependencies HTTP/1.1\u001b[0m\" 200 -\n",
      "127.0.0.1 - - [01/Jan/2021 15:37:28] \"\u001b[37mGET / HTTP/1.1\u001b[0m\" 200 -\n",
      "127.0.0.1 - - [01/Jan/2021 15:37:29] \"\u001b[37mGET /_favicon.ico?v=1.18.1 HTTP/1.1\u001b[0m\" 200 -\n",
      "127.0.0.1 - - [01/Jan/2021 15:37:29] \"\u001b[37mGET /_dash-layout HTTP/1.1\u001b[0m\" 200 -\n",
      "127.0.0.1 - - [01/Jan/2021 15:37:29] \"\u001b[37mGET /_dash-dependencies HTTP/1.1\u001b[0m\" 200 -\n"
     ]
    }
   ],
   "source": [
    "app = dash.Dash()\n",
    "  \n",
    "app.layout = html.Div(children =[ \n",
    "    html.H1(\"Dash Tutorial\"), \n",
    "    dcc.Graph( \n",
    "        id =\"example\", \n",
    "        figure ={ \n",
    "            'data':[ \n",
    "                       {'x':[1, 2, 3, 4, 5], \n",
    "                        'y':[5, 4, 7, 4, 8], \n",
    "                        'type':'line',  \n",
    "                        'name':'Trucks'}, \n",
    "                       {'x':[1, 2, 3, 4, 5],  \n",
    "                        'y':[6, 3, 5, 3, 7],  \n",
    "                        'type':'bar', \n",
    "                        'name':'Ships'} \n",
    "                   ], \n",
    "            'layout':{ \n",
    "                'title':'Basic Dashboard !'\n",
    "            } \n",
    "        } \n",
    "    ) \n",
    "]) \n",
    "\n",
    "if __name__ == '__main__': \n",
    "    app.run_server() "
   ]
  },
  {
   "cell_type": "code",
   "execution_count": null,
   "metadata": {},
   "outputs": [],
   "source": []
  }
 ],
 "metadata": {
  "kernelspec": {
   "display_name": "Python 3",
   "language": "python",
   "name": "python3"
  },
  "language_info": {
   "codemirror_mode": {
    "name": "ipython",
    "version": 3
   },
   "file_extension": ".py",
   "mimetype": "text/x-python",
   "name": "python",
   "nbconvert_exporter": "python",
   "pygments_lexer": "ipython3",
   "version": "3.7.6"
  }
 },
 "nbformat": 4,
 "nbformat_minor": 4
}
